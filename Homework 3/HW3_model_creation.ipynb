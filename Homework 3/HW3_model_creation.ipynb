{
 "cells": [
  {
   "cell_type": "markdown",
   "metadata": {},
   "source": [
    "# Homework 3"
   ]
  },
  {
   "cell_type": "markdown",
   "metadata": {},
   "source": [
    "### Q1 Downloading the data"
   ]
  },
  {
   "cell_type": "code",
   "execution_count": 1,
   "metadata": {},
   "outputs": [],
   "source": [
    "import numpy as np\n",
    "import pandas as pd\n",
    "import matplotlib.pyplot as plt\n",
    "import seaborn as sns\n",
    "%matplotlib inline"
   ]
  },
  {
   "cell_type": "code",
   "execution_count": 2,
   "metadata": {},
   "outputs": [],
   "source": [
    "df=pd.read_csv('/Users/riyachanduka/Downloads/qb.train.csv')"
   ]
  },
  {
   "cell_type": "code",
   "execution_count": 3,
   "metadata": {},
   "outputs": [
    {
     "data": {
      "text/html": [
       "<div>\n",
       "<style scoped>\n",
       "    .dataframe tbody tr th:only-of-type {\n",
       "        vertical-align: middle;\n",
       "    }\n",
       "\n",
       "    .dataframe tbody tr th {\n",
       "        vertical-align: top;\n",
       "    }\n",
       "\n",
       "    .dataframe thead th {\n",
       "        text-align: right;\n",
       "    }\n",
       "</style>\n",
       "<table border=\"1\" class=\"dataframe\">\n",
       "  <thead>\n",
       "    <tr style=\"text-align: right;\">\n",
       "      <th></th>\n",
       "      <th>row</th>\n",
       "      <th>body_score</th>\n",
       "      <th>page</th>\n",
       "      <th>answer</th>\n",
       "      <th>text</th>\n",
       "      <th>category</th>\n",
       "      <th>tournaments</th>\n",
       "      <th>answer_type</th>\n",
       "      <th>corr</th>\n",
       "      <th>inlinks</th>\n",
       "    </tr>\n",
       "  </thead>\n",
       "  <tbody>\n",
       "    <tr>\n",
       "      <th>0</th>\n",
       "      <td>1</td>\n",
       "      <td>127.398036</td>\n",
       "      <td>Comus (John Milton)</td>\n",
       "      <td>Comus (John Milton)</td>\n",
       "      <td>First performed in Ludlow Castle by the childr...</td>\n",
       "      <td>Literature</td>\n",
       "      <td>2000 ACF Nationals</td>\n",
       "      <td>work</td>\n",
       "      <td>True</td>\n",
       "      <td>62</td>\n",
       "    </tr>\n",
       "    <tr>\n",
       "      <th>1</th>\n",
       "      <td>2</td>\n",
       "      <td>50.212336</td>\n",
       "      <td>Circe</td>\n",
       "      <td>Comus (John Milton)</td>\n",
       "      <td>First performed in Ludlow Castle by the childr...</td>\n",
       "      <td>Literature</td>\n",
       "      <td>2000 ACF Nationals</td>\n",
       "      <td>None</td>\n",
       "      <td>False</td>\n",
       "      <td>5</td>\n",
       "    </tr>\n",
       "    <tr>\n",
       "      <th>2</th>\n",
       "      <td>3</td>\n",
       "      <td>44.767071</td>\n",
       "      <td>Satyr</td>\n",
       "      <td>Comus (John Milton)</td>\n",
       "      <td>First performed in Ludlow Castle by the childr...</td>\n",
       "      <td>Literature</td>\n",
       "      <td>2000 ACF Nationals</td>\n",
       "      <td>None</td>\n",
       "      <td>False</td>\n",
       "      <td>6</td>\n",
       "    </tr>\n",
       "    <tr>\n",
       "      <th>3</th>\n",
       "      <td>4</td>\n",
       "      <td>44.058274</td>\n",
       "      <td>Philip K. Dick</td>\n",
       "      <td>Wilfred Owen</td>\n",
       "      <td>This author is convinced by another to publish...</td>\n",
       "      <td>Literature</td>\n",
       "      <td>2009 ACF Winter</td>\n",
       "      <td>people</td>\n",
       "      <td>False</td>\n",
       "      <td>22</td>\n",
       "    </tr>\n",
       "    <tr>\n",
       "      <th>4</th>\n",
       "      <td>5</td>\n",
       "      <td>40.675249</td>\n",
       "      <td>Honore de Balzac</td>\n",
       "      <td>Wilfred Owen</td>\n",
       "      <td>This author is convinced by another to publish...</td>\n",
       "      <td>Literature</td>\n",
       "      <td>2009 ACF Winter</td>\n",
       "      <td>None</td>\n",
       "      <td>False</td>\n",
       "      <td>0</td>\n",
       "    </tr>\n",
       "  </tbody>\n",
       "</table>\n",
       "</div>"
      ],
      "text/plain": [
       "   row  body_score                 page               answer  \\\n",
       "0    1  127.398036  Comus (John Milton)  Comus (John Milton)   \n",
       "1    2   50.212336                Circe  Comus (John Milton)   \n",
       "2    3   44.767071                Satyr  Comus (John Milton)   \n",
       "3    4   44.058274       Philip K. Dick         Wilfred Owen   \n",
       "4    5   40.675249     Honore de Balzac         Wilfred Owen   \n",
       "\n",
       "                                                text    category  \\\n",
       "0  First performed in Ludlow Castle by the childr...  Literature   \n",
       "1  First performed in Ludlow Castle by the childr...  Literature   \n",
       "2  First performed in Ludlow Castle by the childr...  Literature   \n",
       "3  This author is convinced by another to publish...  Literature   \n",
       "4  This author is convinced by another to publish...  Literature   \n",
       "\n",
       "          tournaments answer_type   corr  inlinks  \n",
       "0  2000 ACF Nationals        work   True       62  \n",
       "1  2000 ACF Nationals        None  False        5  \n",
       "2  2000 ACF Nationals        None  False        6  \n",
       "3     2009 ACF Winter      people  False       22  \n",
       "4     2009 ACF Winter        None  False        0  "
      ]
     },
     "execution_count": 3,
     "metadata": {},
     "output_type": "execute_result"
    }
   ],
   "source": [
    "df.head()"
   ]
  },
  {
   "cell_type": "code",
   "execution_count": 4,
   "metadata": {},
   "outputs": [],
   "source": [
    "X=df.iloc[:,[1,2,3,6,7,9]].values\n",
    "#print(df.iloc[:,[1,6,7,9]])\n",
    "y=df.iloc[:, 8].values"
   ]
  },
  {
   "cell_type": "code",
   "execution_count": 5,
   "metadata": {},
   "outputs": [],
   "source": [
    "from sklearn.preprocessing import LabelEncoder,OneHotEncoder"
   ]
  },
  {
   "cell_type": "code",
   "execution_count": 6,
   "metadata": {},
   "outputs": [],
   "source": [
    "label_encoder_1=LabelEncoder()\n",
    "label_encoder_1.fit(X[:, 1])\n",
    "X[:, 1]=label_encoder_1.transform(X[:, 1])#Convert categorical data to labels\n",
    "\n",
    "label_encoder_2=LabelEncoder()\n",
    "label_encoder_2.fit(X[:, 2])\n",
    "X[:, 2]=label_encoder_2.transform(X[:, 2])\n",
    "\n",
    "label_encoder_4=LabelEncoder()\n",
    "label_encoder_4.fit(X[:, 4])\n",
    "X[:, 4]=label_encoder_4.transform(X[:, 4])\n",
    "\n",
    "label_encoder_5=LabelEncoder()\n",
    "label_encoder_5.fit(X[:, 3])\n",
    "X[:, 3]=label_encoder_5.transform(X[:, 3])\n",
    "\n",
    "label_encoder_corr=LabelEncoder()\n",
    "label_encoder_corr.fit(y)\n",
    "y=label_encoder_corr.transform(y)\n",
    "\n",
    "# #Convert the labels to categorical data\n",
    "one_hot_encoder=OneHotEncoder(categorical_features=[1,2,3,4],sparse=False)\n",
    "one_hot_encoder.fit(X)\n",
    "X=one_hot_encoder.transform(X)\n",
    "# #To remove Multi collinearity\n",
    "# #delete first column of each categorical variable\n",
    "X=np.delete(X,one_hot_encoder.feature_indices_[: -1],1)"
   ]
  },
  {
   "cell_type": "code",
   "execution_count": 7,
   "metadata": {},
   "outputs": [],
   "source": [
    "from sklearn.model_selection import train_test_split\n",
    "X_train,X_test,y_train,y_test = train_test_split(X,y,test_size=0.2,random_state=0)"
   ]
  },
  {
   "cell_type": "code",
   "execution_count": 8,
   "metadata": {},
   "outputs": [],
   "source": [
    "# =============================================================================\n",
    "# Scaling our data\n",
    "# =============================================================================\n",
    "from sklearn.preprocessing import StandardScaler\n",
    "#formula for standard scaler x-mu/sigma\n",
    "sc=StandardScaler()\n",
    "sc.fit(X_train)\n",
    "X_train=sc.transform(X_train)\n",
    "X_test=sc.transform(X_test)"
   ]
  },
  {
   "cell_type": "markdown",
   "metadata": {},
   "source": [
    "### Q2 Building the best classifier "
   ]
  },
  {
   "cell_type": "markdown",
   "metadata": {},
   "source": [
    "### Building model using columns bodyscore, page, answer, tournaments, answer_type and inlinks "
   ]
  },
  {
   "cell_type": "markdown",
   "metadata": {},
   "source": [
    "### 1. Building Logistic Regression Model"
   ]
  },
  {
   "cell_type": "code",
   "execution_count": 9,
   "metadata": {},
   "outputs": [
    {
     "data": {
      "text/plain": [
       "LogisticRegression(C=1.0, class_weight=None, dual=False, fit_intercept=True,\n",
       "          intercept_scaling=1, max_iter=100, multi_class='ovr', n_jobs=1,\n",
       "          penalty='l2', random_state=None, solver='liblinear', tol=0.0001,\n",
       "          verbose=0, warm_start=False)"
      ]
     },
     "execution_count": 9,
     "metadata": {},
     "output_type": "execute_result"
    }
   ],
   "source": [
    "from sklearn.linear_model import LogisticRegression\n",
    "#lr= LinearRegression(fit_intercept=False)\n",
    "glm_model=LogisticRegression()\n",
    "glm_model.fit(X_train,y_train)"
   ]
  },
  {
   "cell_type": "code",
   "execution_count": 10,
   "metadata": {},
   "outputs": [
    {
     "data": {
      "text/plain": [
       "array([1, 0, 1, ..., 0, 0, 0])"
      ]
     },
     "execution_count": 10,
     "metadata": {},
     "output_type": "execute_result"
    }
   ],
   "source": [
    "# =============================================================================\n",
    "# Prediction using the model\n",
    "# =============================================================================\n",
    "y_pred=glm_model.predict(X_test)\n",
    "y_pred_prob=glm_model.predict_proba(X_test)[:,1]\n",
    "y_test"
   ]
  },
  {
   "cell_type": "code",
   "execution_count": 11,
   "metadata": {},
   "outputs": [
    {
     "data": {
      "text/plain": [
       "0.7852722772277227"
      ]
     },
     "execution_count": 11,
     "metadata": {},
     "output_type": "execute_result"
    }
   ],
   "source": [
    "from sklearn.metrics import accuracy_score\n",
    "accuracy_score(y_test, y_pred)"
   ]
  },
  {
   "cell_type": "code",
   "execution_count": 12,
   "metadata": {},
   "outputs": [
    {
     "data": {
      "image/png": "[encoded data removed]",
      "text/plain": [
       "<matplotlib.figure.Figure at 0x106d0a4e0>"
      ]
     },
     "metadata": {},
     "output_type": "display_data"
    }
   ],
   "source": [
    "# =============================================================================\n",
    "# ROC curve \n",
    "# =============================================================================\n",
    "from sklearn.metrics import roc_curve,roc_auc_score\n",
    "\n",
    "fpr, tpr, threshold = roc_curve(y_test, y_pred_prob)\n",
    "auc_score = roc_auc_score(y_test, y_pred_prob)\n",
    "plt.title('Receiving Operating Characteristics')\n",
    "plt.plot(fpr, tpr, 'b', label = 'AUC = %0.2f'%auc_score)\n",
    "plt.legend(loc = 'lower right')\n",
    "plt.plot([0,1], [0,1], 'r--')\n",
    "plt.xlim([0,1])\n",
    "plt.ylim([0,1])\n",
    "plt.xlabel('False Positive Rate')\n",
    "plt.ylabel('True Positive Rate')\n",
    "plt.show()"
   ]
  },
  {
   "cell_type": "markdown",
   "metadata": {},
   "source": [
    "### 2. Building Decision Tree Model"
   ]
  },
  {
   "cell_type": "code",
   "execution_count": 13,
   "metadata": {},
   "outputs": [
    {
     "data": {
      "text/plain": [
       "DecisionTreeClassifier(class_weight=None, criterion='gini', max_depth=None,\n",
       "            max_features=None, max_leaf_nodes=None,\n",
       "            min_impurity_decrease=0.0, min_impurity_split=None,\n",
       "            min_samples_leaf=1, min_samples_split=2,\n",
       "            min_weight_fraction_leaf=0.0, presort=False, random_state=None,\n",
       "            splitter='best')"
      ]
     },
     "execution_count": 13,
     "metadata": {},
     "output_type": "execute_result"
    }
   ],
   "source": [
    "from sklearn.tree import DecisionTreeClassifier\n",
    "\n",
    "tree_model=DecisionTreeClassifier()\n",
    "tree_model.fit(X_train,y_train)\n"
   ]
  },
  {
   "cell_type": "code",
   "execution_count": 14,
   "metadata": {},
   "outputs": [],
   "source": [
    "y_pred=tree_model.predict(X_test)\n",
    "y_pred_prob=tree_model.predict_proba(X_test)[:,1]"
   ]
  },
  {
   "cell_type": "code",
   "execution_count": 15,
   "metadata": {},
   "outputs": [
    {
     "data": {
      "text/plain": [
       "0.7908415841584159"
      ]
     },
     "execution_count": 15,
     "metadata": {},
     "output_type": "execute_result"
    }
   ],
   "source": [
    "from sklearn.metrics import accuracy_score\n",
    "accuracy_score(y_test,y_pred)"
   ]
  },
  {
   "cell_type": "code",
   "execution_count": 16,
   "metadata": {},
   "outputs": [
    {
     "data": {
      "image/png": "[encoded data removed]",
      "text/plain": [
       "<matplotlib.figure.Figure at 0x106d0a940>"
      ]
     },
     "metadata": {},
     "output_type": "display_data"
    }
   ],
   "source": [
    "# =============================================================================\n",
    "# ROC curve \n",
    "# =============================================================================\n",
    "from sklearn.metrics import roc_curve,roc_auc_score\n",
    "\n",
    "fpr, tpr, threshold = roc_curve(y_test, y_pred_prob)\n",
    "auc_score = roc_auc_score(y_test, y_pred_prob)\n",
    "plt.title('Receiving Operating Characteristics')\n",
    "plt.plot(fpr, tpr, 'b', label = 'AUC = %0.2f'%auc_score)\n",
    "plt.legend(loc = 'lower right')\n",
    "plt.plot([0,1], [0,1], 'r--')\n",
    "plt.xlim([0,1])\n",
    "plt.ylim([0,1])\n",
    "plt.xlabel('False Positive Rate')\n",
    "plt.ylabel('True Positive Rate')\n",
    "plt.show()"
   ]
  },
  {
   "cell_type": "markdown",
   "metadata": {},
   "source": [
    "### 3. Building SVM Model "
   ]
  },
  {
   "cell_type": "code",
   "execution_count": 17,
   "metadata": {},
   "outputs": [],
   "source": [
    "from sklearn.svm import SVC"
   ]
  },
  {
   "cell_type": "code",
   "execution_count": 18,
   "metadata": {},
   "outputs": [],
   "source": [
    "svm_class=SVC(kernel='rbf',random_state=0,probability=True)"
   ]
  },
  {
   "cell_type": "code",
   "execution_count": 19,
   "metadata": {},
   "outputs": [],
   "source": [
    "svm_class.fit(X_train,y_train)\n",
    "y_pred=svm_class.predict(X_test)\n",
    "y_pred_prob=svm_class.predict_proba(X_test)[:,1]"
   ]
  },
  {
   "cell_type": "code",
   "execution_count": 20,
   "metadata": {},
   "outputs": [
    {
     "data": {
      "text/plain": [
       "0.781559405940594"
      ]
     },
     "execution_count": 20,
     "metadata": {},
     "output_type": "execute_result"
    }
   ],
   "source": [
    "from sklearn.metrics import accuracy_score\n",
    "accuracy_score(y_test,y_pred)"
   ]
  },
  {
   "cell_type": "code",
   "execution_count": 21,
   "metadata": {},
   "outputs": [
    {
     "data": {
      "image/png": "[encoded data removed]",
      "text/plain": [
       "<matplotlib.figure.Figure at 0x10c6c81d0>"
      ]
     },
     "metadata": {},
     "output_type": "display_data"
    }
   ],
   "source": [
    "# =============================================================================\n",
    "# ROC curve \n",
    "# =============================================================================\n",
    "from sklearn.metrics import roc_curve,roc_auc_score\n",
    "\n",
    "fpr, tpr, threshold = roc_curve(y_test, y_pred_prob)\n",
    "auc_score = roc_auc_score(y_test, y_pred_prob)\n",
    "plt.title('Receiving Operating Characteristics')\n",
    "plt.plot(fpr, tpr, 'b', label = 'AUC = %0.2f'%auc_score)\n",
    "plt.legend(loc = 'lower right')\n",
    "plt.plot([0,1], [0,1], 'r--')\n",
    "plt.xlim([0,1])\n",
    "plt.ylim([0,1])\n",
    "plt.xlabel('False Positive Rate')\n",
    "plt.ylabel('True Positive Rate')\n",
    "plt.show()"
   ]
  },
  {
   "cell_type": "markdown",
   "metadata": {},
   "source": [
    "## Removing page and answer as page values are all different in the actual train and test dataset and answer column is not present in the test dataset.\n"
   ]
  },
  {
   "cell_type": "code",
   "execution_count": 22,
   "metadata": {},
   "outputs": [],
   "source": [
    "X = df.iloc[:, [1,6,7,9]].values\n",
    "y = df.iloc[:, 8].values "
   ]
  },
  {
   "cell_type": "code",
   "execution_count": 23,
   "metadata": {},
   "outputs": [],
   "source": [
    "from sklearn.preprocessing import LabelEncoder, OneHotEncoder\n",
    "label_encoder_tournaments = LabelEncoder()\n",
    "label_encoder_answertype = LabelEncoder()\n",
    "\n",
    "label_encoder_tournaments.fit(X[:,1]) #never enter multiple column here, it doesn't work\n",
    "X[:,1] = label_encoder_tournaments.transform(X[:,1])\n",
    "\n",
    "label_encoder_answertype.fit(X[:,2]) #never enter multiple column here, it doesn't work\n",
    "X[:,2] = label_encoder_answertype.transform(X[:,2])\n",
    "\n",
    "one_hot_encoder = OneHotEncoder(categorical_features=[1,2], sparse=False)\n",
    "one_hot_encoder.fit(X)\n",
    "X= one_hot_encoder.transform(X)"
   ]
  },
  {
   "cell_type": "code",
   "execution_count": 24,
   "metadata": {},
   "outputs": [],
   "source": [
    "label_encoder_corr = LabelEncoder()\n",
    "label_encoder_corr.fit(y) #never enter multiple column here, it doesn't work\n",
    "y = label_encoder_corr.transform(y)"
   ]
  },
  {
   "cell_type": "code",
   "execution_count": 25,
   "metadata": {},
   "outputs": [],
   "source": [
    "from sklearn.model_selection import train_test_split\n",
    "\n",
    "X_train, X_test, y_train, y_test = train_test_split(X, y, test_size =0.2, random_state = 0 ) "
   ]
  },
  {
   "cell_type": "markdown",
   "metadata": {},
   "source": [
    "### Building Logistic Regression Model "
   ]
  },
  {
   "cell_type": "code",
   "execution_count": 26,
   "metadata": {},
   "outputs": [
    {
     "data": {
      "text/plain": [
       "LogisticRegression(C=1.0, class_weight=None, dual=False, fit_intercept=True,\n",
       "          intercept_scaling=1, max_iter=100, multi_class='ovr', n_jobs=1,\n",
       "          penalty='l2', random_state=None, solver='liblinear', tol=0.0001,\n",
       "          verbose=0, warm_start=False)"
      ]
     },
     "execution_count": 26,
     "metadata": {},
     "output_type": "execute_result"
    }
   ],
   "source": [
    "from sklearn.linear_model import LogisticRegression\n",
    "\n",
    "glm_model = LogisticRegression()\n",
    "glm_model.fit(X_train, y_train)"
   ]
  },
  {
   "cell_type": "code",
   "execution_count": 27,
   "metadata": {},
   "outputs": [],
   "source": [
    "y_pred = glm_model.predict(X_test)\n",
    "y_pred_prob = glm_model.predict_proba(X_test) [:, 1]"
   ]
  },
  {
   "cell_type": "code",
   "execution_count": 28,
   "metadata": {},
   "outputs": [
    {
     "data": {
      "text/plain": [
       "0.6670792079207921"
      ]
     },
     "execution_count": 28,
     "metadata": {},
     "output_type": "execute_result"
    }
   ],
   "source": [
    "from sklearn.metrics import accuracy_score\n",
    "accuracy_score(y_test, y_pred)"
   ]
  },
  {
   "cell_type": "code",
   "execution_count": 29,
   "metadata": {},
   "outputs": [
    {
     "data": {
      "image/png": "[encoded data removed]",
      "text/plain": [
       "<matplotlib.figure.Figure at 0x106d0ac50>"
      ]
     },
     "metadata": {},
     "output_type": "display_data"
    }
   ],
   "source": [
    "import matplotlib.pyplot as plt\n",
    "% matplotlib inline\n",
    "from sklearn.metrics import roc_curve, roc_auc_score\n",
    "\n",
    "fpr, tpr, threshold = roc_curve(y_test, y_pred_prob)\n",
    "auc_score = roc_auc_score(y_test, y_pred_prob)\n",
    "plt.title('Receiving Operating Characteristics')\n",
    "plt.plot(fpr, tpr, 'b', label = 'AUC = %0.2f'%auc_score)\n",
    "plt.legend(loc = 'lower right')\n",
    "plt.plot([0,1], [0,1], 'r--')\n",
    "plt.xlim([0,1])\n",
    "plt.ylim([0,1])\n",
    "plt.xlabel('False Positive Rate')\n",
    "plt.ylabel('True Positive Rate')\n",
    "plt.show()"
   ]
  },
  {
   "cell_type": "markdown",
   "metadata": {},
   "source": [
    "### Building Decision Tree Model"
   ]
  },
  {
   "cell_type": "code",
   "execution_count": 30,
   "metadata": {},
   "outputs": [
    {
     "data": {
      "text/plain": [
       "DecisionTreeClassifier(class_weight=None, criterion='gini', max_depth=None,\n",
       "            max_features=None, max_leaf_nodes=None,\n",
       "            min_impurity_decrease=0.0, min_impurity_split=None,\n",
       "            min_samples_leaf=1, min_samples_split=2,\n",
       "            min_weight_fraction_leaf=0.0, presort=False, random_state=None,\n",
       "            splitter='best')"
      ]
     },
     "execution_count": 30,
     "metadata": {},
     "output_type": "execute_result"
    }
   ],
   "source": [
    "from sklearn.tree import DecisionTreeClassifier\n",
    "\n",
    "tree_model=DecisionTreeClassifier()\n",
    "tree_model.fit(X_train,y_train)"
   ]
  },
  {
   "cell_type": "code",
   "execution_count": 31,
   "metadata": {},
   "outputs": [],
   "source": [
    "y_pred=tree_model.predict(X_test)\n",
    "y_pred_prob=tree_model.predict_proba(X_test)[:,1]"
   ]
  },
  {
   "cell_type": "code",
   "execution_count": 32,
   "metadata": {},
   "outputs": [
    {
     "data": {
      "text/plain": [
       "0.7326732673267327"
      ]
     },
     "execution_count": 32,
     "metadata": {},
     "output_type": "execute_result"
    }
   ],
   "source": [
    "from sklearn.metrics import accuracy_score\n",
    "accuracy_score(y_test,y_pred)"
   ]
  },
  {
   "cell_type": "code",
   "execution_count": 33,
   "metadata": {},
   "outputs": [
    {
     "data": {
      "image/png": "[encoded data removed]",
      "text/plain": [
       "<matplotlib.figure.Figure at 0x10c6b4ef0>"
      ]
     },
     "metadata": {},
     "output_type": "display_data"
    }
   ],
   "source": [
    "# =============================================================================\n",
    "# ROC curve \n",
    "# =============================================================================\n",
    "from sklearn.metrics import roc_curve,roc_auc_score\n",
    "\n",
    "fpr, tpr, threshold = roc_curve(y_test, y_pred_prob)\n",
    "auc_score = roc_auc_score(y_test, y_pred_prob)\n",
    "plt.title('Receiving Operating Characteristics')\n",
    "plt.plot(fpr, tpr, 'b', label = 'AUC = %0.2f'%auc_score)\n",
    "plt.legend(loc = 'lower right')\n",
    "plt.plot([0,1], [0,1], 'r--')\n",
    "plt.xlim([0,1])\n",
    "plt.ylim([0,1])\n",
    "plt.xlabel('False Positive Rate')\n",
    "plt.ylabel('True Positive Rate')\n",
    "plt.show()"
   ]
  },
  {
   "cell_type": "markdown",
   "metadata": {},
   "source": [
    "### Building SVM Model "
   ]
  },
  {
   "cell_type": "code",
   "execution_count": 34,
   "metadata": {},
   "outputs": [],
   "source": [
    "from sklearn.svm import SVC"
   ]
  },
  {
   "cell_type": "code",
   "execution_count": 35,
   "metadata": {},
   "outputs": [],
   "source": [
    "svm_class = SVC(kernel='rbf', random_state=0, probability=True)\n",
    "svm_class.fit(X_train,y_train)\n",
    "y_pred = svm_class.predict(X_test)\n",
    "y_pred_prob = svm_class.predict_proba(X_test) [:, 1]"
   ]
  },
  {
   "cell_type": "code",
   "execution_count": 36,
   "metadata": {},
   "outputs": [
    {
     "data": {
      "text/plain": [
       "0.7797029702970297"
      ]
     },
     "execution_count": 36,
     "metadata": {},
     "output_type": "execute_result"
    }
   ],
   "source": [
    "from sklearn.metrics import accuracy_score\n",
    "accuracy_score(y_test, y_pred)"
   ]
  },
  {
   "cell_type": "code",
   "execution_count": 37,
   "metadata": {},
   "outputs": [
    {
     "data": {
      "image/png": "[encoded data removed]",
      "text/plain": [
       "<matplotlib.figure.Figure at 0x1473d7c88>"
      ]
     },
     "metadata": {},
     "output_type": "display_data"
    }
   ],
   "source": [
    "from sklearn.metrics import roc_curve, roc_auc_score\n",
    "\n",
    "fpr, tpr, threshold = roc_curve(y_test, y_pred_prob)\n",
    "auc_score = roc_auc_score(y_test, y_pred_prob)\n",
    "plt.title('Receiving Operating Characteristics')\n",
    "plt.plot(fpr, tpr, 'b', label = 'AUC = %0.2f'%auc_score)\n",
    "plt.legend(loc = 'lower right')\n",
    "plt.plot([0,1], [0,1], 'r--')\n",
    "plt.xlim([0,1])\n",
    "plt.ylim([0,1])\n",
    "plt.xlabel('False Positive Rate')\n",
    "plt.ylabel('True Positive Rate')\n",
    "plt.show()"
   ]
  },
  {
   "cell_type": "markdown",
   "metadata": {},
   "source": [
    "### Accuracy Matrix "
   ]
  },
  {
   "cell_type": "code",
   "execution_count": 38,
   "metadata": {},
   "outputs": [
    {
     "data": {
      "text/html": [
       "<div>\n",
       "<style scoped>\n",
       "    .dataframe tbody tr th:only-of-type {\n",
       "        vertical-align: middle;\n",
       "    }\n",
       "\n",
       "    .dataframe tbody tr th {\n",
       "        vertical-align: top;\n",
       "    }\n",
       "\n",
       "    .dataframe thead th {\n",
       "        text-align: right;\n",
       "    }\n",
       "</style>\n",
       "<table border=\"1\" class=\"dataframe\">\n",
       "  <thead>\n",
       "    <tr style=\"text-align: right;\">\n",
       "      <th></th>\n",
       "      <th>Model Name</th>\n",
       "      <th>Accuracy Score</th>\n",
       "    </tr>\n",
       "  </thead>\n",
       "  <tbody>\n",
       "    <tr>\n",
       "      <th>0</th>\n",
       "      <td>Decision Tree</td>\n",
       "      <td>0.73</td>\n",
       "    </tr>\n",
       "    <tr>\n",
       "      <th>1</th>\n",
       "      <td>SVM</td>\n",
       "      <td>0.78</td>\n",
       "    </tr>\n",
       "    <tr>\n",
       "      <th>2</th>\n",
       "      <td>Logistic Regression</td>\n",
       "      <td>0.68</td>\n",
       "    </tr>\n",
       "  </tbody>\n",
       "</table>\n",
       "</div>"
      ],
      "text/plain": [
       "            Model Name Accuracy Score\n",
       "0        Decision Tree           0.73\n",
       "1                  SVM           0.78\n",
       "2  Logistic Regression           0.68"
      ]
     },
     "execution_count": 38,
     "metadata": {},
     "output_type": "execute_result"
    }
   ],
   "source": [
    "accuracy_matrix=pd.DataFrame(columns=['Model Name','Accuracy Score'])\n",
    "accuracy_matrix.loc[0]=['Decision Tree','0.73']\n",
    "accuracy_matrix.loc[1]=['SVM','0.78']\n",
    "accuracy_matrix.loc[2]=['Logistic Regression','0.68']\n",
    "accuracy_matrix.head()"
   ]
  },
  {
   "cell_type": "markdown",
   "metadata": {},
   "source": [
    "### The best accuracy of 78% is coming using SVM Model "
   ]
  },
  {
   "cell_type": "markdown",
   "metadata": {},
   "source": [
    "### Q3 To improve the predictions I'm extracting the length of the column text and also the year of the tournament."
   ]
  },
  {
   "cell_type": "code",
   "execution_count": 41,
   "metadata": {},
   "outputs": [],
   "source": [
    "import re\n",
    "pattern = \"^[0-9][0-9][0-9][0-9]\"\n",
    "\n",
    "for index, row in df.iterrows():\n",
    "    temp = df['tournaments'].values[index]\n",
    "    year = re.match(pattern, temp)\n",
    "    df['tournament_year'].values[index] = year.group(0)"
   ]
  },
  {
   "cell_type": "code",
   "execution_count": 44,
   "metadata": {},
   "outputs": [],
   "source": [
    "import re\n",
    "for index,row in df.iterrows():\n",
    "    length=df['text'].values[index]\n",
    "    length=length.split()\n",
    "    length=len(length)\n",
    "    df['length'].values[index]=length"
   ]
  },
  {
   "cell_type": "code",
   "execution_count": 45,
   "metadata": {},
   "outputs": [
    {
     "data": {
      "text/html": [
       "<div>\n",
       "<style scoped>\n",
       "    .dataframe tbody tr th:only-of-type {\n",
       "        vertical-align: middle;\n",
       "    }\n",
       "\n",
       "    .dataframe tbody tr th {\n",
       "        vertical-align: top;\n",
       "    }\n",
       "\n",
       "    .dataframe thead th {\n",
       "        text-align: right;\n",
       "    }\n",
       "</style>\n",
       "<table border=\"1\" class=\"dataframe\">\n",
       "  <thead>\n",
       "    <tr style=\"text-align: right;\">\n",
       "      <th></th>\n",
       "      <th>row</th>\n",
       "      <th>body_score</th>\n",
       "      <th>page</th>\n",
       "      <th>answer</th>\n",
       "      <th>text</th>\n",
       "      <th>category</th>\n",
       "      <th>tournaments</th>\n",
       "      <th>answer_type</th>\n",
       "      <th>corr</th>\n",
       "      <th>inlinks</th>\n",
       "      <th>tournament_year</th>\n",
       "      <th>length</th>\n",
       "    </tr>\n",
       "  </thead>\n",
       "  <tbody>\n",
       "    <tr>\n",
       "      <th>0</th>\n",
       "      <td>1</td>\n",
       "      <td>127.398036</td>\n",
       "      <td>Comus (John Milton)</td>\n",
       "      <td>Comus (John Milton)</td>\n",
       "      <td>First performed in Ludlow Castle by the childr...</td>\n",
       "      <td>Literature</td>\n",
       "      <td>2000 ACF Nationals</td>\n",
       "      <td>work</td>\n",
       "      <td>True</td>\n",
       "      <td>62</td>\n",
       "      <td>2000</td>\n",
       "      <td>65</td>\n",
       "    </tr>\n",
       "    <tr>\n",
       "      <th>1</th>\n",
       "      <td>2</td>\n",
       "      <td>50.212336</td>\n",
       "      <td>Circe</td>\n",
       "      <td>Comus (John Milton)</td>\n",
       "      <td>First performed in Ludlow Castle by the childr...</td>\n",
       "      <td>Literature</td>\n",
       "      <td>2000 ACF Nationals</td>\n",
       "      <td>None</td>\n",
       "      <td>False</td>\n",
       "      <td>5</td>\n",
       "      <td>2000</td>\n",
       "      <td>65</td>\n",
       "    </tr>\n",
       "    <tr>\n",
       "      <th>2</th>\n",
       "      <td>3</td>\n",
       "      <td>44.767071</td>\n",
       "      <td>Satyr</td>\n",
       "      <td>Comus (John Milton)</td>\n",
       "      <td>First performed in Ludlow Castle by the childr...</td>\n",
       "      <td>Literature</td>\n",
       "      <td>2000 ACF Nationals</td>\n",
       "      <td>None</td>\n",
       "      <td>False</td>\n",
       "      <td>6</td>\n",
       "      <td>2000</td>\n",
       "      <td>65</td>\n",
       "    </tr>\n",
       "    <tr>\n",
       "      <th>3</th>\n",
       "      <td>4</td>\n",
       "      <td>44.058274</td>\n",
       "      <td>Philip K. Dick</td>\n",
       "      <td>Wilfred Owen</td>\n",
       "      <td>This author is convinced by another to publish...</td>\n",
       "      <td>Literature</td>\n",
       "      <td>2009 ACF Winter</td>\n",
       "      <td>people</td>\n",
       "      <td>False</td>\n",
       "      <td>22</td>\n",
       "      <td>2009</td>\n",
       "      <td>56</td>\n",
       "    </tr>\n",
       "    <tr>\n",
       "      <th>4</th>\n",
       "      <td>5</td>\n",
       "      <td>40.675249</td>\n",
       "      <td>Honore de Balzac</td>\n",
       "      <td>Wilfred Owen</td>\n",
       "      <td>This author is convinced by another to publish...</td>\n",
       "      <td>Literature</td>\n",
       "      <td>2009 ACF Winter</td>\n",
       "      <td>None</td>\n",
       "      <td>False</td>\n",
       "      <td>0</td>\n",
       "      <td>2009</td>\n",
       "      <td>56</td>\n",
       "    </tr>\n",
       "  </tbody>\n",
       "</table>\n",
       "</div>"
      ],
      "text/plain": [
       "   row  body_score                 page               answer  \\\n",
       "0    1  127.398036  Comus (John Milton)  Comus (John Milton)   \n",
       "1    2   50.212336                Circe  Comus (John Milton)   \n",
       "2    3   44.767071                Satyr  Comus (John Milton)   \n",
       "3    4   44.058274       Philip K. Dick         Wilfred Owen   \n",
       "4    5   40.675249     Honore de Balzac         Wilfred Owen   \n",
       "\n",
       "                                                text    category  \\\n",
       "0  First performed in Ludlow Castle by the childr...  Literature   \n",
       "1  First performed in Ludlow Castle by the childr...  Literature   \n",
       "2  First performed in Ludlow Castle by the childr...  Literature   \n",
       "3  This author is convinced by another to publish...  Literature   \n",
       "4  This author is convinced by another to publish...  Literature   \n",
       "\n",
       "          tournaments answer_type   corr  inlinks tournament_year  length  \n",
       "0  2000 ACF Nationals        work   True       62            2000      65  \n",
       "1  2000 ACF Nationals        None  False        5            2000      65  \n",
       "2  2000 ACF Nationals        None  False        6            2000      65  \n",
       "3     2009 ACF Winter      people  False       22            2009      56  \n",
       "4     2009 ACF Winter        None  False        0            2009      56  "
      ]
     },
     "execution_count": 45,
     "metadata": {},
     "output_type": "execute_result"
    }
   ],
   "source": [
    "df.head()"
   ]
  },
  {
   "cell_type": "code",
   "execution_count": 46,
   "metadata": {},
   "outputs": [],
   "source": [
    "X = df.iloc[:, [1,6,7,9,10,11]].values\n",
    "#print(df.iloc[:,[1,6,7,9]])\n",
    "y=df.iloc[:, 8].values\n"
   ]
  },
  {
   "cell_type": "code",
   "execution_count": 47,
   "metadata": {},
   "outputs": [],
   "source": [
    "from sklearn.preprocessing import LabelEncoder,OneHotEncoder"
   ]
  },
  {
   "cell_type": "code",
   "execution_count": 48,
   "metadata": {},
   "outputs": [],
   "source": [
    "from sklearn.preprocessing import LabelEncoder, OneHotEncoder\n",
    "label_encoder_tournaments_1 = LabelEncoder()\n",
    "label_encoder_answer_type = LabelEncoder()\n",
    "label_encoder_tournament_year = LabelEncoder()\n",
    "\n",
    "label_encoder_tournaments_1.fit(X[:,1]) #never enter multiple column here, it doesn't work\n",
    "X[:,1] = label_encoder_tournaments_1.transform(X[:,1])\n",
    "\n",
    "label_encoder_answer_type.fit(X[:,2]) #never enter multiple column here, it doesn't work\n",
    "X[:,2] = label_encoder_answer_type.transform(X[:,2])\n",
    "\n",
    "label_encoder_tournament_year.fit(X[:,4]) #never enter multiple column here, it doesn't work\n",
    "X[:,4] = label_encoder_tournament_year.transform(X[:,4])\n",
    "\n",
    "one_hot_encoder = OneHotEncoder(categorical_features=[1,2,4], sparse=False)\n",
    "one_hot_encoder.fit(X)\n",
    "X= one_hot_encoder.transform(X)\n",
    "\n",
    "label_encoder_corr = LabelEncoder()\n",
    "label_encoder_corr.fit(y) #never enter multiple column here, it doesn't work\n",
    "y = label_encoder_corr.transform(y)"
   ]
  },
  {
   "cell_type": "code",
   "execution_count": 49,
   "metadata": {},
   "outputs": [],
   "source": [
    "from sklearn.model_selection import train_test_split\n",
    "X_train,X_test,y_train,y_test = train_test_split(X,y,test_size=0.2,random_state=0)"
   ]
  },
  {
   "cell_type": "code",
   "execution_count": 50,
   "metadata": {},
   "outputs": [
    {
     "data": {
      "text/plain": [
       "array([[  0.        ,   0.        ,   0.        , ...,  22.45832261,\n",
       "          4.        ,  62.        ],\n",
       "       [  0.        ,   0.        ,   0.        , ...,  63.1774925 ,\n",
       "         45.        , 142.        ],\n",
       "       [  0.        ,   0.        ,   0.        , ...,  45.29725431,\n",
       "          1.        ,  73.        ],\n",
       "       ...,\n",
       "       [  0.        ,   0.        ,   0.        , ...,  32.76578841,\n",
       "         69.        ,  42.        ],\n",
       "       [  0.        ,   0.        ,   0.        , ...,  40.10573454,\n",
       "         13.        ,  43.        ],\n",
       "       [  0.        ,   0.        ,   0.        , ...,  41.30242705,\n",
       "         17.        ,  54.        ]])"
      ]
     },
     "execution_count": 50,
     "metadata": {},
     "output_type": "execute_result"
    }
   ],
   "source": [
    "X_test"
   ]
  },
  {
   "cell_type": "code",
   "execution_count": 51,
   "metadata": {},
   "outputs": [],
   "source": [
    "# =============================================================================\n",
    "# Scaling our data\n",
    "# =============================================================================\n",
    "from sklearn.preprocessing import StandardScaler\n",
    "#formula for standard scaler x-mu/sigma\n",
    "sc=StandardScaler()\n",
    "sc.fit(X_train)\n",
    "X_train=sc.transform(X_train)\n",
    "X_test=sc.transform(X_test)"
   ]
  },
  {
   "cell_type": "markdown",
   "metadata": {},
   "source": [
    "### Building the Model"
   ]
  },
  {
   "cell_type": "markdown",
   "metadata": {},
   "source": [
    "#### Building SVM Model"
   ]
  },
  {
   "cell_type": "code",
   "execution_count": 52,
   "metadata": {},
   "outputs": [],
   "source": [
    "from sklearn.svm import SVC"
   ]
  },
  {
   "cell_type": "code",
   "execution_count": 53,
   "metadata": {},
   "outputs": [],
   "source": [
    "svm_class=SVC(kernel='rbf',random_state=0,probability=True)"
   ]
  },
  {
   "cell_type": "code",
   "execution_count": 54,
   "metadata": {},
   "outputs": [],
   "source": [
    "svm_class.fit(X_train,y_train)\n",
    "y_pred=svm_class.predict(X_test)\n",
    "y_pred_prob_final=svm_class.predict_proba(X_test)[:,1]"
   ]
  },
  {
   "cell_type": "code",
   "execution_count": 55,
   "metadata": {},
   "outputs": [
    {
     "data": {
      "text/plain": [
       "0.681930693069307"
      ]
     },
     "execution_count": 55,
     "metadata": {},
     "output_type": "execute_result"
    }
   ],
   "source": [
    "from sklearn.metrics import accuracy_score\n",
    "accuracy_score(y_test,y_pred)"
   ]
  },
  {
   "cell_type": "code",
   "execution_count": 56,
   "metadata": {},
   "outputs": [
    {
     "data": {
      "image/png": "[encoded data removed]",
      "text/plain": [
       "<matplotlib.figure.Figure at 0x10c87e5f8>"
      ]
     },
     "metadata": {},
     "output_type": "display_data"
    }
   ],
   "source": [
    "# =============================================================================\n",
    "# ROC curve \n",
    "# =============================================================================\n",
    "from sklearn.metrics import roc_curve,roc_auc_score\n",
    "\n",
    "fpr, tpr, threshold = roc_curve(y_test, y_pred_prob_final)\n",
    "auc_score = roc_auc_score(y_test, y_pred_prob_final)\n",
    "plt.title('Receiving Operating Characteristics')\n",
    "plt.plot(fpr, tpr, 'b', label = 'AUC = %0.2f'%auc_score)\n",
    "plt.legend(loc = 'lower right')\n",
    "plt.plot([0,1], [0,1], 'r--')\n",
    "plt.xlim([0,1])\n",
    "plt.ylim([0,1])\n",
    "plt.xlabel('False Positive Rate')\n",
    "plt.ylabel('True Positive Rate')\n",
    "plt.show()"
   ]
  },
  {
   "cell_type": "markdown",
   "metadata": {},
   "source": [
    "### I will compare if the additional feature increases the accuracy or decreases it by comparing the accuracy score and Area under Curve graph. "
   ]
  },
  {
   "cell_type": "markdown",
   "metadata": {},
   "source": [
    "### ROC curve for SVM model before and after adding additional features"
   ]
  },
  {
   "cell_type": "code",
   "execution_count": 57,
   "metadata": {},
   "outputs": [
    {
     "data": {
      "text/plain": [
       "<matplotlib.legend.Legend at 0x10dc87ef0>"
      ]
     },
     "execution_count": 57,
     "metadata": {},
     "output_type": "execute_result"
    },
    {
     "data": {
      "image/png": "[encoded data removed]",
      "text/plain": [
       "<matplotlib.figure.Figure at 0x1473e0860>"
      ]
     },
     "metadata": {},
     "output_type": "display_data"
    }
   ],
   "source": [
    "from sklearn import metrics\n",
    "\n",
    "plt.figure(0).clf()\n",
    "\n",
    "fig1 = plt.gcf()\n",
    "\n",
    "fpr, tpr, thresh = metrics.roc_curve(y_test, y_pred_prob)\n",
    "auc = metrics.roc_auc_score(y_test, y_pred_prob)\n",
    "plt.plot(fpr,tpr,label=\"SVM_without_additional_features, auc=\"+str(auc))\n",
    "\n",
    "\n",
    "fpr, tpr, thresh = metrics.roc_curve(y_test, y_pred_prob_final)\n",
    "auc = metrics.roc_auc_score(y_test, y_pred_prob_final)\n",
    "plt.plot(fpr,tpr,label=\"SVM_with_additional_features, auc=\"+str(auc))\n",
    "\n",
    "plt.legend(loc=0)"
   ]
  },
  {
   "cell_type": "code",
   "execution_count": null,
   "metadata": {},
   "outputs": [],
   "source": [
    "fig1.savefig('plot.pdf', dpi=100)"
   ]
  },
  {
   "cell_type": "markdown",
   "metadata": {},
   "source": [
    "### Hence, we will build our final classifier using body_score, tournaments, inlinks, answer_type and the  extracted features length of the text."
   ]
  },
  {
   "cell_type": "code",
   "execution_count": null,
   "metadata": {},
   "outputs": [],
   "source": []
  }
 ],
 "metadata": {
  "kernelspec": {
   "display_name": "Python 3",
   "language": "python",
   "name": "python3"
  },
  "language_info": {
   "codemirror_mode": {
    "name": "ipython",
    "version": 3
   },
   "file_extension": ".py",
   "mimetype": "text/x-python",
   "name": "python",
   "nbconvert_exporter": "python",
   "pygments_lexer": "ipython3",
   "version": "3.6.4"
  }
 },
 "nbformat": 4,
 "nbformat_minor": 2
}
