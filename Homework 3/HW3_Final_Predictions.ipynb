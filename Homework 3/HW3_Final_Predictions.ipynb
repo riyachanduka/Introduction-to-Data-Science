{
 "cells": [
  {
   "cell_type": "markdown",
   "metadata": {},
   "source": [
    "# Homework 3"
   ]
  },
  {
   "cell_type": "markdown",
   "metadata": {},
   "source": [
    "#  Predicting correct answers in this dataset according to the best classsifier built"
   ]
  },
  {
   "cell_type": "code",
   "execution_count": 2,
   "metadata": {},
   "outputs": [],
   "source": [
    "import numpy as np\n",
    "import pandas as pd\n",
    "import matplotlib.pyplot as plt\n",
    "import seaborn as sns\n",
    "%matplotlib inline"
   ]
  },
  {
   "cell_type": "code",
   "execution_count": 66,
   "metadata": {},
   "outputs": [],
   "source": [
    "df=pd.read_csv('/Users/riyachanduka/Downloads/qb.train.csv')"
   ]
  },
  {
   "cell_type": "code",
   "execution_count": 67,
   "metadata": {},
   "outputs": [
    {
     "data": {
      "text/html": [
       "<div>\n",
       "<style scoped>\n",
       "    .dataframe tbody tr th:only-of-type {\n",
       "        vertical-align: middle;\n",
       "    }\n",
       "\n",
       "    .dataframe tbody tr th {\n",
       "        vertical-align: top;\n",
       "    }\n",
       "\n",
       "    .dataframe thead th {\n",
       "        text-align: right;\n",
       "    }\n",
       "</style>\n",
       "<table border=\"1\" class=\"dataframe\">\n",
       "  <thead>\n",
       "    <tr style=\"text-align: right;\">\n",
       "      <th></th>\n",
       "      <th>row</th>\n",
       "      <th>body_score</th>\n",
       "      <th>page</th>\n",
       "      <th>answer</th>\n",
       "      <th>text</th>\n",
       "      <th>category</th>\n",
       "      <th>tournaments</th>\n",
       "      <th>answer_type</th>\n",
       "      <th>corr</th>\n",
       "      <th>inlinks</th>\n",
       "    </tr>\n",
       "  </thead>\n",
       "  <tbody>\n",
       "    <tr>\n",
       "      <th>0</th>\n",
       "      <td>1</td>\n",
       "      <td>127.398036</td>\n",
       "      <td>Comus (John Milton)</td>\n",
       "      <td>Comus (John Milton)</td>\n",
       "      <td>First performed in Ludlow Castle by the childr...</td>\n",
       "      <td>Literature</td>\n",
       "      <td>2000 ACF Nationals</td>\n",
       "      <td>work</td>\n",
       "      <td>True</td>\n",
       "      <td>62</td>\n",
       "    </tr>\n",
       "    <tr>\n",
       "      <th>1</th>\n",
       "      <td>2</td>\n",
       "      <td>50.212336</td>\n",
       "      <td>Circe</td>\n",
       "      <td>Comus (John Milton)</td>\n",
       "      <td>First performed in Ludlow Castle by the childr...</td>\n",
       "      <td>Literature</td>\n",
       "      <td>2000 ACF Nationals</td>\n",
       "      <td>None</td>\n",
       "      <td>False</td>\n",
       "      <td>5</td>\n",
       "    </tr>\n",
       "    <tr>\n",
       "      <th>2</th>\n",
       "      <td>3</td>\n",
       "      <td>44.767071</td>\n",
       "      <td>Satyr</td>\n",
       "      <td>Comus (John Milton)</td>\n",
       "      <td>First performed in Ludlow Castle by the childr...</td>\n",
       "      <td>Literature</td>\n",
       "      <td>2000 ACF Nationals</td>\n",
       "      <td>None</td>\n",
       "      <td>False</td>\n",
       "      <td>6</td>\n",
       "    </tr>\n",
       "    <tr>\n",
       "      <th>3</th>\n",
       "      <td>4</td>\n",
       "      <td>44.058274</td>\n",
       "      <td>Philip K. Dick</td>\n",
       "      <td>Wilfred Owen</td>\n",
       "      <td>This author is convinced by another to publish...</td>\n",
       "      <td>Literature</td>\n",
       "      <td>2009 ACF Winter</td>\n",
       "      <td>people</td>\n",
       "      <td>False</td>\n",
       "      <td>22</td>\n",
       "    </tr>\n",
       "    <tr>\n",
       "      <th>4</th>\n",
       "      <td>5</td>\n",
       "      <td>40.675249</td>\n",
       "      <td>Honore de Balzac</td>\n",
       "      <td>Wilfred Owen</td>\n",
       "      <td>This author is convinced by another to publish...</td>\n",
       "      <td>Literature</td>\n",
       "      <td>2009 ACF Winter</td>\n",
       "      <td>None</td>\n",
       "      <td>False</td>\n",
       "      <td>0</td>\n",
       "    </tr>\n",
       "  </tbody>\n",
       "</table>\n",
       "</div>"
      ],
      "text/plain": [
       "   row  body_score                 page               answer  \\\n",
       "0    1  127.398036  Comus (John Milton)  Comus (John Milton)   \n",
       "1    2   50.212336                Circe  Comus (John Milton)   \n",
       "2    3   44.767071                Satyr  Comus (John Milton)   \n",
       "3    4   44.058274       Philip K. Dick         Wilfred Owen   \n",
       "4    5   40.675249     Honore de Balzac         Wilfred Owen   \n",
       "\n",
       "                                                text    category  \\\n",
       "0  First performed in Ludlow Castle by the childr...  Literature   \n",
       "1  First performed in Ludlow Castle by the childr...  Literature   \n",
       "2  First performed in Ludlow Castle by the childr...  Literature   \n",
       "3  This author is convinced by another to publish...  Literature   \n",
       "4  This author is convinced by another to publish...  Literature   \n",
       "\n",
       "          tournaments answer_type   corr  inlinks  \n",
       "0  2000 ACF Nationals        work   True       62  \n",
       "1  2000 ACF Nationals        None  False        5  \n",
       "2  2000 ACF Nationals        None  False        6  \n",
       "3     2009 ACF Winter      people  False       22  \n",
       "4     2009 ACF Winter        None  False        0  "
      ]
     },
     "execution_count": 67,
     "metadata": {},
     "output_type": "execute_result"
    }
   ],
   "source": [
    "df.head()"
   ]
  },
  {
   "cell_type": "code",
   "execution_count": 70,
   "metadata": {},
   "outputs": [],
   "source": [
    "import re\n",
    "pattern = \"^[0-9][0-9][0-9][0-9]\"\n",
    "\n",
    "for index, row in df.iterrows():\n",
    "    temp = df['tournaments'].values[index]\n",
    "    year = re.match(pattern, temp)\n",
    "    df['tournament_year'].values[index] = year.group(0)"
   ]
  },
  {
   "cell_type": "code",
   "execution_count": 73,
   "metadata": {},
   "outputs": [],
   "source": [
    "import re\n",
    "for index,row in df.iterrows():\n",
    "    length=df['text'].values[index]\n",
    "    length=length.split()\n",
    "    length=len(length)\n",
    "    df['length'].values[index]=length"
   ]
  },
  {
   "cell_type": "code",
   "execution_count": 74,
   "metadata": {},
   "outputs": [
    {
     "data": {
      "text/html": [
       "<div>\n",
       "<style scoped>\n",
       "    .dataframe tbody tr th:only-of-type {\n",
       "        vertical-align: middle;\n",
       "    }\n",
       "\n",
       "    .dataframe tbody tr th {\n",
       "        vertical-align: top;\n",
       "    }\n",
       "\n",
       "    .dataframe thead th {\n",
       "        text-align: right;\n",
       "    }\n",
       "</style>\n",
       "<table border=\"1\" class=\"dataframe\">\n",
       "  <thead>\n",
       "    <tr style=\"text-align: right;\">\n",
       "      <th></th>\n",
       "      <th>row</th>\n",
       "      <th>body_score</th>\n",
       "      <th>page</th>\n",
       "      <th>answer</th>\n",
       "      <th>text</th>\n",
       "      <th>category</th>\n",
       "      <th>tournaments</th>\n",
       "      <th>answer_type</th>\n",
       "      <th>corr</th>\n",
       "      <th>inlinks</th>\n",
       "      <th>tournament_year</th>\n",
       "      <th>length</th>\n",
       "    </tr>\n",
       "  </thead>\n",
       "  <tbody>\n",
       "    <tr>\n",
       "      <th>0</th>\n",
       "      <td>1</td>\n",
       "      <td>127.398036</td>\n",
       "      <td>Comus (John Milton)</td>\n",
       "      <td>Comus (John Milton)</td>\n",
       "      <td>First performed in Ludlow Castle by the childr...</td>\n",
       "      <td>Literature</td>\n",
       "      <td>2000 ACF Nationals</td>\n",
       "      <td>work</td>\n",
       "      <td>True</td>\n",
       "      <td>62</td>\n",
       "      <td>2000</td>\n",
       "      <td>65</td>\n",
       "    </tr>\n",
       "    <tr>\n",
       "      <th>1</th>\n",
       "      <td>2</td>\n",
       "      <td>50.212336</td>\n",
       "      <td>Circe</td>\n",
       "      <td>Comus (John Milton)</td>\n",
       "      <td>First performed in Ludlow Castle by the childr...</td>\n",
       "      <td>Literature</td>\n",
       "      <td>2000 ACF Nationals</td>\n",
       "      <td>None</td>\n",
       "      <td>False</td>\n",
       "      <td>5</td>\n",
       "      <td>2000</td>\n",
       "      <td>65</td>\n",
       "    </tr>\n",
       "    <tr>\n",
       "      <th>2</th>\n",
       "      <td>3</td>\n",
       "      <td>44.767071</td>\n",
       "      <td>Satyr</td>\n",
       "      <td>Comus (John Milton)</td>\n",
       "      <td>First performed in Ludlow Castle by the childr...</td>\n",
       "      <td>Literature</td>\n",
       "      <td>2000 ACF Nationals</td>\n",
       "      <td>None</td>\n",
       "      <td>False</td>\n",
       "      <td>6</td>\n",
       "      <td>2000</td>\n",
       "      <td>65</td>\n",
       "    </tr>\n",
       "    <tr>\n",
       "      <th>3</th>\n",
       "      <td>4</td>\n",
       "      <td>44.058274</td>\n",
       "      <td>Philip K. Dick</td>\n",
       "      <td>Wilfred Owen</td>\n",
       "      <td>This author is convinced by another to publish...</td>\n",
       "      <td>Literature</td>\n",
       "      <td>2009 ACF Winter</td>\n",
       "      <td>people</td>\n",
       "      <td>False</td>\n",
       "      <td>22</td>\n",
       "      <td>2009</td>\n",
       "      <td>56</td>\n",
       "    </tr>\n",
       "    <tr>\n",
       "      <th>4</th>\n",
       "      <td>5</td>\n",
       "      <td>40.675249</td>\n",
       "      <td>Honore de Balzac</td>\n",
       "      <td>Wilfred Owen</td>\n",
       "      <td>This author is convinced by another to publish...</td>\n",
       "      <td>Literature</td>\n",
       "      <td>2009 ACF Winter</td>\n",
       "      <td>None</td>\n",
       "      <td>False</td>\n",
       "      <td>0</td>\n",
       "      <td>2009</td>\n",
       "      <td>56</td>\n",
       "    </tr>\n",
       "  </tbody>\n",
       "</table>\n",
       "</div>"
      ],
      "text/plain": [
       "   row  body_score                 page               answer  \\\n",
       "0    1  127.398036  Comus (John Milton)  Comus (John Milton)   \n",
       "1    2   50.212336                Circe  Comus (John Milton)   \n",
       "2    3   44.767071                Satyr  Comus (John Milton)   \n",
       "3    4   44.058274       Philip K. Dick         Wilfred Owen   \n",
       "4    5   40.675249     Honore de Balzac         Wilfred Owen   \n",
       "\n",
       "                                                text    category  \\\n",
       "0  First performed in Ludlow Castle by the childr...  Literature   \n",
       "1  First performed in Ludlow Castle by the childr...  Literature   \n",
       "2  First performed in Ludlow Castle by the childr...  Literature   \n",
       "3  This author is convinced by another to publish...  Literature   \n",
       "4  This author is convinced by another to publish...  Literature   \n",
       "\n",
       "          tournaments answer_type   corr  inlinks tournament_year  length  \n",
       "0  2000 ACF Nationals        work   True       62            2000      65  \n",
       "1  2000 ACF Nationals        None  False        5            2000      65  \n",
       "2  2000 ACF Nationals        None  False        6            2000      65  \n",
       "3     2009 ACF Winter      people  False       22            2009      56  \n",
       "4     2009 ACF Winter        None  False        0            2009      56  "
      ]
     },
     "execution_count": 74,
     "metadata": {},
     "output_type": "execute_result"
    }
   ],
   "source": [
    "df.head()"
   ]
  },
  {
   "cell_type": "code",
   "execution_count": 75,
   "metadata": {},
   "outputs": [
    {
     "name": "stdout",
     "output_type": "stream",
     "text": [
      "[ True False False ... False False  True]\n"
     ]
    }
   ],
   "source": [
    "X=df.iloc[:,[1,6,7,9,10,11]].values\n",
    "#print(df.iloc[:,[1,6,7,9]])\n",
    "y=df.iloc[:, 8].values\n",
    "\n",
    "print(y)\n",
    "# body page tour answertype"
   ]
  },
  {
   "cell_type": "code",
   "execution_count": 76,
   "metadata": {},
   "outputs": [],
   "source": [
    "from sklearn.preprocessing import LabelEncoder,OneHotEncoder"
   ]
  },
  {
   "cell_type": "code",
   "execution_count": 77,
   "metadata": {},
   "outputs": [],
   "source": [
    "label_encoder_1=LabelEncoder()\n",
    "label_encoder_1.fit(X[:, 1])\n",
    "X[:, 1]=label_encoder_1.transform(X[:, 1])#Convert categorical data to labels\n",
    "\n",
    "label_encoder_2=LabelEncoder()\n",
    "label_encoder_2.fit(X[:, 2])\n",
    "X[:, 2]=label_encoder_2.transform(X[:, 2])\n",
    "\n",
    "# label_encoder_4=LabelEncoder()\n",
    "# label_encoder_4.fit(X[:, 4])\n",
    "# X[:, 4]=label_encoder_4.transform(X[:, 4])\n",
    "\n",
    "# label_encoder_3=LabelEncoder()\n",
    "# label_encoder_3.fit(X[:, 3])\n",
    "# X[:, 3]=label_encoder_3.transform(X[:, 3])\n",
    "\n",
    "label_encoder_corr=LabelEncoder()\n",
    "label_encoder_corr.fit(y)\n",
    "y=label_encoder_corr.transform(y)\n",
    "\n",
    "# #Convert the labels to categorical data\n",
    "one_hot_encoder=OneHotEncoder(categorical_features=[1,2],sparse=False)\n",
    "one_hot_encoder.fit(X)\n",
    "X=one_hot_encoder.transform(X)\n",
    "# #To remove Multi collinearity\n",
    "# #delete first column of each categorical variable\n",
    "X=np.delete(X,one_hot_encoder.feature_indices_[: -1],1)"
   ]
  },
  {
   "cell_type": "markdown",
   "metadata": {},
   "source": [
    "### Downloading the test dataset "
   ]
  },
  {
   "cell_type": "code",
   "execution_count": 29,
   "metadata": {},
   "outputs": [
    {
     "data": {
      "text/html": [
       "<div>\n",
       "<style scoped>\n",
       "    .dataframe tbody tr th:only-of-type {\n",
       "        vertical-align: middle;\n",
       "    }\n",
       "\n",
       "    .dataframe tbody tr th {\n",
       "        vertical-align: top;\n",
       "    }\n",
       "\n",
       "    .dataframe thead th {\n",
       "        text-align: right;\n",
       "    }\n",
       "</style>\n",
       "<table border=\"1\" class=\"dataframe\">\n",
       "  <thead>\n",
       "    <tr style=\"text-align: right;\">\n",
       "      <th></th>\n",
       "      <th>row</th>\n",
       "      <th>body_score</th>\n",
       "      <th>page</th>\n",
       "      <th>text</th>\n",
       "      <th>category</th>\n",
       "      <th>tournaments</th>\n",
       "      <th>answer_type</th>\n",
       "      <th>inlinks</th>\n",
       "    </tr>\n",
       "  </thead>\n",
       "  <tbody>\n",
       "    <tr>\n",
       "      <th>0</th>\n",
       "      <td>31</td>\n",
       "      <td>40.023617</td>\n",
       "      <td>Death in Venice</td>\n",
       "      <td>The protagonist of this novella is inspired to...</td>\n",
       "      <td>Literature</td>\n",
       "      <td>2001 ACF Fall</td>\n",
       "      <td>work</td>\n",
       "      <td>4</td>\n",
       "    </tr>\n",
       "    <tr>\n",
       "      <th>1</th>\n",
       "      <td>32</td>\n",
       "      <td>27.538799</td>\n",
       "      <td>The Eye of the World</td>\n",
       "      <td>The protagonist of this novella is inspired to...</td>\n",
       "      <td>Literature</td>\n",
       "      <td>2001 ACF Fall</td>\n",
       "      <td>work</td>\n",
       "      <td>1</td>\n",
       "    </tr>\n",
       "    <tr>\n",
       "      <th>2</th>\n",
       "      <td>33</td>\n",
       "      <td>26.976121</td>\n",
       "      <td>Carmilla</td>\n",
       "      <td>The protagonist of this novella is inspired to...</td>\n",
       "      <td>Literature</td>\n",
       "      <td>2001 ACF Fall</td>\n",
       "      <td>work</td>\n",
       "      <td>2</td>\n",
       "    </tr>\n",
       "    <tr>\n",
       "      <th>3</th>\n",
       "      <td>88</td>\n",
       "      <td>45.848831</td>\n",
       "      <td>A Passage to India</td>\n",
       "      <td>In a symbolic incident in this novel Ronny Hea...</td>\n",
       "      <td>Literature</td>\n",
       "      <td>2001 ACF Regionals</td>\n",
       "      <td>work</td>\n",
       "      <td>5</td>\n",
       "    </tr>\n",
       "    <tr>\n",
       "      <th>4</th>\n",
       "      <td>91</td>\n",
       "      <td>99.811169</td>\n",
       "      <td>The Cherry Orchard</td>\n",
       "      <td>We first meet Fiers, the aging footman, in Act...</td>\n",
       "      <td>Literature</td>\n",
       "      <td>2001 ACF Regionals</td>\n",
       "      <td>work</td>\n",
       "      <td>11</td>\n",
       "    </tr>\n",
       "  </tbody>\n",
       "</table>\n",
       "</div>"
      ],
      "text/plain": [
       "   row  body_score                  page  \\\n",
       "0   31   40.023617       Death in Venice   \n",
       "1   32   27.538799  The Eye of the World   \n",
       "2   33   26.976121              Carmilla   \n",
       "3   88   45.848831    A Passage to India   \n",
       "4   91   99.811169    The Cherry Orchard   \n",
       "\n",
       "                                                text    category  \\\n",
       "0  The protagonist of this novella is inspired to...  Literature   \n",
       "1  The protagonist of this novella is inspired to...  Literature   \n",
       "2  The protagonist of this novella is inspired to...  Literature   \n",
       "3  In a symbolic incident in this novel Ronny Hea...  Literature   \n",
       "4  We first meet Fiers, the aging footman, in Act...  Literature   \n",
       "\n",
       "          tournaments answer_type  inlinks  \n",
       "0       2001 ACF Fall        work        4  \n",
       "1       2001 ACF Fall        work        1  \n",
       "2       2001 ACF Fall        work        2  \n",
       "3  2001 ACF Regionals        work        5  \n",
       "4  2001 ACF Regionals        work       11  "
      ]
     },
     "execution_count": 29,
     "metadata": {},
     "output_type": "execute_result"
    }
   ],
   "source": [
    "test=pd.read_csv('/Users/riyachanduka/Downloads/qb.test.csv')\n",
    "#print(df.iloc[:,[1,6,7,9]])\n",
    "test.head()"
   ]
  },
  {
   "cell_type": "code",
   "execution_count": 32,
   "metadata": {},
   "outputs": [],
   "source": [
    "import re\n",
    "pattern = \"^[0-9][0-9][0-9][0-9]\"\n",
    "\n",
    "for index, row in test.iterrows():\n",
    "    temp = test['tournaments'].values[index]\n",
    "    year = re.match(pattern, temp)\n",
    "    test['tournament_year'] .values[index]= year.group(0)"
   ]
  },
  {
   "cell_type": "code",
   "execution_count": 35,
   "metadata": {},
   "outputs": [],
   "source": [
    "import re\n",
    "for index,row in test.iterrows():\n",
    "    length=test['text'].values[index]\n",
    "    length=length.split()\n",
    "    length=len(length)\n",
    "    test['length'].values[index]=length\n",
    "    "
   ]
  },
  {
   "cell_type": "code",
   "execution_count": 36,
   "metadata": {},
   "outputs": [
    {
     "data": {
      "text/html": [
       "<div>\n",
       "<style scoped>\n",
       "    .dataframe tbody tr th:only-of-type {\n",
       "        vertical-align: middle;\n",
       "    }\n",
       "\n",
       "    .dataframe tbody tr th {\n",
       "        vertical-align: top;\n",
       "    }\n",
       "\n",
       "    .dataframe thead th {\n",
       "        text-align: right;\n",
       "    }\n",
       "</style>\n",
       "<table border=\"1\" class=\"dataframe\">\n",
       "  <thead>\n",
       "    <tr style=\"text-align: right;\">\n",
       "      <th></th>\n",
       "      <th>row</th>\n",
       "      <th>body_score</th>\n",
       "      <th>page</th>\n",
       "      <th>text</th>\n",
       "      <th>category</th>\n",
       "      <th>tournaments</th>\n",
       "      <th>answer_type</th>\n",
       "      <th>inlinks</th>\n",
       "      <th>tournament_year</th>\n",
       "      <th>length</th>\n",
       "    </tr>\n",
       "  </thead>\n",
       "  <tbody>\n",
       "    <tr>\n",
       "      <th>0</th>\n",
       "      <td>31</td>\n",
       "      <td>40.023617</td>\n",
       "      <td>Death in Venice</td>\n",
       "      <td>The protagonist of this novella is inspired to...</td>\n",
       "      <td>Literature</td>\n",
       "      <td>2001 ACF Fall</td>\n",
       "      <td>work</td>\n",
       "      <td>4</td>\n",
       "      <td>2001</td>\n",
       "      <td>45</td>\n",
       "    </tr>\n",
       "    <tr>\n",
       "      <th>1</th>\n",
       "      <td>32</td>\n",
       "      <td>27.538799</td>\n",
       "      <td>The Eye of the World</td>\n",
       "      <td>The protagonist of this novella is inspired to...</td>\n",
       "      <td>Literature</td>\n",
       "      <td>2001 ACF Fall</td>\n",
       "      <td>work</td>\n",
       "      <td>1</td>\n",
       "      <td>2001</td>\n",
       "      <td>45</td>\n",
       "    </tr>\n",
       "    <tr>\n",
       "      <th>2</th>\n",
       "      <td>33</td>\n",
       "      <td>26.976121</td>\n",
       "      <td>Carmilla</td>\n",
       "      <td>The protagonist of this novella is inspired to...</td>\n",
       "      <td>Literature</td>\n",
       "      <td>2001 ACF Fall</td>\n",
       "      <td>work</td>\n",
       "      <td>2</td>\n",
       "      <td>2001</td>\n",
       "      <td>45</td>\n",
       "    </tr>\n",
       "    <tr>\n",
       "      <th>3</th>\n",
       "      <td>88</td>\n",
       "      <td>45.848831</td>\n",
       "      <td>A Passage to India</td>\n",
       "      <td>In a symbolic incident in this novel Ronny Hea...</td>\n",
       "      <td>Literature</td>\n",
       "      <td>2001 ACF Regionals</td>\n",
       "      <td>work</td>\n",
       "      <td>5</td>\n",
       "      <td>2001</td>\n",
       "      <td>22</td>\n",
       "    </tr>\n",
       "    <tr>\n",
       "      <th>4</th>\n",
       "      <td>91</td>\n",
       "      <td>99.811169</td>\n",
       "      <td>The Cherry Orchard</td>\n",
       "      <td>We first meet Fiers, the aging footman, in Act...</td>\n",
       "      <td>Literature</td>\n",
       "      <td>2001 ACF Regionals</td>\n",
       "      <td>work</td>\n",
       "      <td>11</td>\n",
       "      <td>2001</td>\n",
       "      <td>96</td>\n",
       "    </tr>\n",
       "  </tbody>\n",
       "</table>\n",
       "</div>"
      ],
      "text/plain": [
       "   row  body_score                  page  \\\n",
       "0   31   40.023617       Death in Venice   \n",
       "1   32   27.538799  The Eye of the World   \n",
       "2   33   26.976121              Carmilla   \n",
       "3   88   45.848831    A Passage to India   \n",
       "4   91   99.811169    The Cherry Orchard   \n",
       "\n",
       "                                                text    category  \\\n",
       "0  The protagonist of this novella is inspired to...  Literature   \n",
       "1  The protagonist of this novella is inspired to...  Literature   \n",
       "2  The protagonist of this novella is inspired to...  Literature   \n",
       "3  In a symbolic incident in this novel Ronny Hea...  Literature   \n",
       "4  We first meet Fiers, the aging footman, in Act...  Literature   \n",
       "\n",
       "          tournaments answer_type  inlinks tournament_year  length  \n",
       "0       2001 ACF Fall        work        4            2001      45  \n",
       "1       2001 ACF Fall        work        1            2001      45  \n",
       "2       2001 ACF Fall        work        2            2001      45  \n",
       "3  2001 ACF Regionals        work        5            2001      22  \n",
       "4  2001 ACF Regionals        work       11            2001      96  "
      ]
     },
     "execution_count": 36,
     "metadata": {},
     "output_type": "execute_result"
    }
   ],
   "source": [
    "test.head()"
   ]
  },
  {
   "cell_type": "markdown",
   "metadata": {},
   "source": [
    "### Predicting the values for corr using the Decision Tree model created on training dataset "
   ]
  },
  {
   "cell_type": "code",
   "execution_count": 92,
   "metadata": {},
   "outputs": [
    {
     "data": {
      "text/plain": [
       "SVC(C=1.0, cache_size=200, class_weight=None, coef0=0.0,\n",
       "  decision_function_shape='ovr', degree=3, gamma='auto', kernel='rbf',\n",
       "  max_iter=-1, probability=True, random_state=0, shrinking=True, tol=0.001,\n",
       "  verbose=False)"
      ]
     },
     "execution_count": 92,
     "metadata": {},
     "output_type": "execute_result"
    }
   ],
   "source": [
    "#=============================================================================\n",
    "# Building SVM Model\n",
    "# =============================================================================\n",
    "\n",
    "from sklearn.svm import SVC\n",
    "svm_class=SVC(kernel='rbf',random_state=0,probability=True)\n",
    "svm_class.fit(X,y)\n"
   ]
  },
  {
   "cell_type": "code",
   "execution_count": 93,
   "metadata": {},
   "outputs": [],
   "source": [
    "#Test dataset\n",
    "features=test.iloc[:,[1,5,6,7,8,9]].values\n",
    "#print(df.iloc[:,[1,6,7,9]])"
   ]
  },
  {
   "cell_type": "code",
   "execution_count": 94,
   "metadata": {},
   "outputs": [],
   "source": [
    "\n",
    "features[:, 1]=label_encoder_1.transform(features[:, 1])#Convert categorical data to labels\n",
    "\n",
    "features[:, 2]=label_encoder_2.transform(features[:, 2])\n",
    "\n",
    "\n",
    "features=one_hot_encoder.transform(features)\n",
    "# #To remove Multi collinearity\n",
    "# #delete first column of each categorical variable\n",
    "features=np.delete(features,one_hot_encoder.feature_indices_[: -1],1)"
   ]
  },
  {
   "cell_type": "code",
   "execution_count": 95,
   "metadata": {},
   "outputs": [],
   "source": [
    "# =============================================================================\n",
    "# Prediction using the SVM model\n",
    "# =============================================================================\n",
    "\n",
    "y_pred=svm_class.predict(features)\n",
    "y_pred_prob=svm_class.predict_proba(features)[:,1]"
   ]
  },
  {
   "cell_type": "markdown",
   "metadata": {},
   "source": [
    "Checking that features are equal for training and test dataset"
   ]
  },
  {
   "cell_type": "code",
   "execution_count": 96,
   "metadata": {},
   "outputs": [
    {
     "data": {
      "text/plain": [
       "(8079, 87)"
      ]
     },
     "execution_count": 96,
     "metadata": {},
     "output_type": "execute_result"
    }
   ],
   "source": [
    "X.shape"
   ]
  },
  {
   "cell_type": "code",
   "execution_count": 97,
   "metadata": {},
   "outputs": [
    {
     "data": {
      "text/plain": [
       "(887, 87)"
      ]
     },
     "execution_count": 97,
     "metadata": {},
     "output_type": "execute_result"
    }
   ],
   "source": [
    "features.shape"
   ]
  },
  {
   "cell_type": "markdown",
   "metadata": {},
   "source": [
    "### Creating a final dataframe containing the predicted column"
   ]
  },
  {
   "cell_type": "code",
   "execution_count": 98,
   "metadata": {},
   "outputs": [],
   "source": [
    "final_df=pd.DataFrame(data=y_pred)"
   ]
  },
  {
   "cell_type": "code",
   "execution_count": 99,
   "metadata": {},
   "outputs": [
    {
     "data": {
      "text/plain": [
       "(887, 1)"
      ]
     },
     "execution_count": 99,
     "metadata": {},
     "output_type": "execute_result"
    }
   ],
   "source": [
    "final_df.shape"
   ]
  },
  {
   "cell_type": "code",
   "execution_count": 100,
   "metadata": {},
   "outputs": [],
   "source": [
    "final_df['row']=test['row']"
   ]
  },
  {
   "cell_type": "code",
   "execution_count": 101,
   "metadata": {},
   "outputs": [
    {
     "data": {
      "text/html": [
       "<div>\n",
       "<style scoped>\n",
       "    .dataframe tbody tr th:only-of-type {\n",
       "        vertical-align: middle;\n",
       "    }\n",
       "\n",
       "    .dataframe tbody tr th {\n",
       "        vertical-align: top;\n",
       "    }\n",
       "\n",
       "    .dataframe thead th {\n",
       "        text-align: right;\n",
       "    }\n",
       "</style>\n",
       "<table border=\"1\" class=\"dataframe\">\n",
       "  <thead>\n",
       "    <tr style=\"text-align: right;\">\n",
       "      <th></th>\n",
       "      <th>0</th>\n",
       "      <th>row</th>\n",
       "    </tr>\n",
       "  </thead>\n",
       "  <tbody>\n",
       "    <tr>\n",
       "      <th>0</th>\n",
       "      <td>0</td>\n",
       "      <td>31</td>\n",
       "    </tr>\n",
       "    <tr>\n",
       "      <th>1</th>\n",
       "      <td>1</td>\n",
       "      <td>32</td>\n",
       "    </tr>\n",
       "    <tr>\n",
       "      <th>2</th>\n",
       "      <td>1</td>\n",
       "      <td>33</td>\n",
       "    </tr>\n",
       "    <tr>\n",
       "      <th>3</th>\n",
       "      <td>1</td>\n",
       "      <td>88</td>\n",
       "    </tr>\n",
       "    <tr>\n",
       "      <th>4</th>\n",
       "      <td>1</td>\n",
       "      <td>91</td>\n",
       "    </tr>\n",
       "  </tbody>\n",
       "</table>\n",
       "</div>"
      ],
      "text/plain": [
       "   0  row\n",
       "0  0   31\n",
       "1  1   32\n",
       "2  1   33\n",
       "3  1   88\n",
       "4  1   91"
      ]
     },
     "execution_count": 101,
     "metadata": {},
     "output_type": "execute_result"
    }
   ],
   "source": [
    "final_df.head()"
   ]
  },
  {
   "cell_type": "code",
   "execution_count": 102,
   "metadata": {},
   "outputs": [],
   "source": [
    "final_df.columns=['corr','row']"
   ]
  },
  {
   "cell_type": "code",
   "execution_count": 103,
   "metadata": {},
   "outputs": [
    {
     "data": {
      "text/html": [
       "<div>\n",
       "<style scoped>\n",
       "    .dataframe tbody tr th:only-of-type {\n",
       "        vertical-align: middle;\n",
       "    }\n",
       "\n",
       "    .dataframe tbody tr th {\n",
       "        vertical-align: top;\n",
       "    }\n",
       "\n",
       "    .dataframe thead th {\n",
       "        text-align: right;\n",
       "    }\n",
       "</style>\n",
       "<table border=\"1\" class=\"dataframe\">\n",
       "  <thead>\n",
       "    <tr style=\"text-align: right;\">\n",
       "      <th></th>\n",
       "      <th>corr</th>\n",
       "      <th>row</th>\n",
       "    </tr>\n",
       "  </thead>\n",
       "  <tbody>\n",
       "    <tr>\n",
       "      <th>0</th>\n",
       "      <td>0</td>\n",
       "      <td>31</td>\n",
       "    </tr>\n",
       "    <tr>\n",
       "      <th>1</th>\n",
       "      <td>1</td>\n",
       "      <td>32</td>\n",
       "    </tr>\n",
       "    <tr>\n",
       "      <th>2</th>\n",
       "      <td>1</td>\n",
       "      <td>33</td>\n",
       "    </tr>\n",
       "    <tr>\n",
       "      <th>3</th>\n",
       "      <td>1</td>\n",
       "      <td>88</td>\n",
       "    </tr>\n",
       "    <tr>\n",
       "      <th>4</th>\n",
       "      <td>1</td>\n",
       "      <td>91</td>\n",
       "    </tr>\n",
       "  </tbody>\n",
       "</table>\n",
       "</div>"
      ],
      "text/plain": [
       "   corr  row\n",
       "0     0   31\n",
       "1     1   32\n",
       "2     1   33\n",
       "3     1   88\n",
       "4     1   91"
      ]
     },
     "execution_count": 103,
     "metadata": {},
     "output_type": "execute_result"
    }
   ],
   "source": [
    "final_df.head()"
   ]
  },
  {
   "cell_type": "code",
   "execution_count": 105,
   "metadata": {},
   "outputs": [],
   "source": [
    "final_df.to_csv('predictions_corr.csv',encoding='utf-8',index=False)"
   ]
  },
  {
   "cell_type": "markdown",
   "metadata": {},
   "source": [
    "### Error Analysis "
   ]
  },
  {
   "cell_type": "code",
   "execution_count": 3,
   "metadata": {},
   "outputs": [],
   "source": [
    "guess=pd.read_csv('/Users/riyachanduka/Downloads/qb.guess.csv')"
   ]
  },
  {
   "cell_type": "code",
   "execution_count": 10,
   "metadata": {},
   "outputs": [
    {
     "data": {
      "text/html": [
       "<div>\n",
       "<style scoped>\n",
       "    .dataframe tbody tr th:only-of-type {\n",
       "        vertical-align: middle;\n",
       "    }\n",
       "\n",
       "    .dataframe tbody tr th {\n",
       "        vertical-align: top;\n",
       "    }\n",
       "\n",
       "    .dataframe thead th {\n",
       "        text-align: right;\n",
       "    }\n",
       "</style>\n",
       "<table border=\"1\" class=\"dataframe\">\n",
       "  <thead>\n",
       "    <tr style=\"text-align: right;\">\n",
       "      <th></th>\n",
       "      <th>row</th>\n",
       "      <th>corr</th>\n",
       "    </tr>\n",
       "  </thead>\n",
       "  <tbody>\n",
       "    <tr>\n",
       "      <th>0</th>\n",
       "      <td>31</td>\n",
       "      <td>False</td>\n",
       "    </tr>\n",
       "    <tr>\n",
       "      <th>1</th>\n",
       "      <td>32</td>\n",
       "      <td>False</td>\n",
       "    </tr>\n",
       "    <tr>\n",
       "      <th>2</th>\n",
       "      <td>33</td>\n",
       "      <td>False</td>\n",
       "    </tr>\n",
       "    <tr>\n",
       "      <th>3</th>\n",
       "      <td>88</td>\n",
       "      <td>False</td>\n",
       "    </tr>\n",
       "    <tr>\n",
       "      <th>4</th>\n",
       "      <td>91</td>\n",
       "      <td>False</td>\n",
       "    </tr>\n",
       "  </tbody>\n",
       "</table>\n",
       "</div>"
      ],
      "text/plain": [
       "   row   corr\n",
       "0   31  False\n",
       "1   32  False\n",
       "2   33  False\n",
       "3   88  False\n",
       "4   91  False"
      ]
     },
     "execution_count": 10,
     "metadata": {},
     "output_type": "execute_result"
    }
   ],
   "source": [
    "guess.head()"
   ]
  },
  {
   "cell_type": "code",
   "execution_count": 5,
   "metadata": {},
   "outputs": [],
   "source": [
    "pred_out=pd.read_csv('/Users/riyachanduka/Documents/predictions_corr.csv')"
   ]
  },
  {
   "cell_type": "code",
   "execution_count": 9,
   "metadata": {},
   "outputs": [
    {
     "data": {
      "text/html": [
       "<div>\n",
       "<style scoped>\n",
       "    .dataframe tbody tr th:only-of-type {\n",
       "        vertical-align: middle;\n",
       "    }\n",
       "\n",
       "    .dataframe tbody tr th {\n",
       "        vertical-align: top;\n",
       "    }\n",
       "\n",
       "    .dataframe thead th {\n",
       "        text-align: right;\n",
       "    }\n",
       "</style>\n",
       "<table border=\"1\" class=\"dataframe\">\n",
       "  <thead>\n",
       "    <tr style=\"text-align: right;\">\n",
       "      <th></th>\n",
       "      <th>row</th>\n",
       "      <th>corr</th>\n",
       "    </tr>\n",
       "  </thead>\n",
       "  <tbody>\n",
       "    <tr>\n",
       "      <th>0</th>\n",
       "      <td>31</td>\n",
       "      <td>False</td>\n",
       "    </tr>\n",
       "    <tr>\n",
       "      <th>1</th>\n",
       "      <td>32</td>\n",
       "      <td>True</td>\n",
       "    </tr>\n",
       "    <tr>\n",
       "      <th>2</th>\n",
       "      <td>33</td>\n",
       "      <td>True</td>\n",
       "    </tr>\n",
       "    <tr>\n",
       "      <th>3</th>\n",
       "      <td>88</td>\n",
       "      <td>True</td>\n",
       "    </tr>\n",
       "    <tr>\n",
       "      <th>4</th>\n",
       "      <td>91</td>\n",
       "      <td>True</td>\n",
       "    </tr>\n",
       "  </tbody>\n",
       "</table>\n",
       "</div>"
      ],
      "text/plain": [
       "   row   corr\n",
       "0   31  False\n",
       "1   32   True\n",
       "2   33   True\n",
       "3   88   True\n",
       "4   91   True"
      ]
     },
     "execution_count": 9,
     "metadata": {},
     "output_type": "execute_result"
    }
   ],
   "source": [
    "pred_out.head()"
   ]
  },
  {
   "cell_type": "code",
   "execution_count": 25,
   "metadata": {},
   "outputs": [
    {
     "name": "stdout",
     "output_type": "stream",
     "text": [
      "The protagonist of this novella is inspired to travel by the sight of a man standing before a mortuary chapel, while symbolically important is his encounter with an old man who has joined a group of young clerks by donning a wig and false teeth.\n",
      "40.023616751300004\n",
      "2001 ACF Fall\n",
      "work\n",
      "4\n",
      "2009\n",
      "45\n",
      "The protagonist of this novella is inspired to travel by the sight of a man standing before a mortuary chapel, while symbolically important is his encounter with an old man who has joined a group of young clerks by donning a wig and false teeth.\n",
      "27.5387991702\n",
      "2001 ACF Fall\n",
      "work\n",
      "1\n",
      "2009\n",
      "45\n",
      "The protagonist of this novella is inspired to travel by the sight of a man standing before a mortuary chapel, while symbolically important is his encounter with an old man who has joined a group of young clerks by donning a wig and false teeth.\n",
      "26.976121095\n",
      "2001 ACF Fall\n",
      "work\n",
      "2\n",
      "2009\n",
      "45\n",
      "In a symbolic incident in this novel Ronny Heaslop and his friend are unsuccessful in their attempts to organize a bridge game.\n",
      "45.8488311908\n",
      "2001 ACF Regionals\n",
      "work\n",
      "5\n",
      "2009\n",
      "22\n",
      "We first meet Fiers, the aging footman, in Act I and learn that he is to be replaced by Yasha.\tOther minor characters include Charlotta, a governess, and Gaev, the brother of the central female.\tNear the end of the play, one character rejoices in his new possession exclaiming, \"If my father and grandfather could see me now - me, their ignorant Yermolay, almost illiterate.\t\"  Lubov Andreyevna, aka Madame Ranevsky, faints when she is forced to part with the dearest reminder of her dead son to Lopakhin, a former family friend and newly wealthy man.\n",
      "99.8111686167\n",
      "2001 ACF Regionals\n",
      "work\n",
      "11\n",
      "2009\n",
      "96\n"
     ]
    }
   ],
   "source": [
    "for index,row in test.iterrows():\n",
    "    if test['row'].values[index] in(31,32,33,88,91):\n",
    "        \n",
    "        print(test['text'].values[index])\n",
    "        print(test['body_score'].values[index])\n",
    "        print(test['tournaments'].values[index])\n",
    "        print(test['answer_type'].values[index])\n",
    "        print(test['inlinks'].values[index])\n",
    "        print(test['tournament_year'].values[index])\n",
    "        print(test['length'].values[index])"
   ]
  },
  {
   "cell_type": "markdown",
   "metadata": {},
   "source": [
    "### The above rows are some of the rows whose values have been predicted incorrectly "
   ]
  },
  {
   "cell_type": "code",
   "execution_count": 24,
   "metadata": {},
   "outputs": [
    {
     "data": {
      "text/html": [
       "<div>\n",
       "<style scoped>\n",
       "    .dataframe tbody tr th:only-of-type {\n",
       "        vertical-align: middle;\n",
       "    }\n",
       "\n",
       "    .dataframe tbody tr th {\n",
       "        vertical-align: top;\n",
       "    }\n",
       "\n",
       "    .dataframe thead th {\n",
       "        text-align: right;\n",
       "    }\n",
       "</style>\n",
       "<table border=\"1\" class=\"dataframe\">\n",
       "  <thead>\n",
       "    <tr style=\"text-align: right;\">\n",
       "      <th></th>\n",
       "      <th>row</th>\n",
       "      <th>body_score</th>\n",
       "      <th>page</th>\n",
       "      <th>text</th>\n",
       "      <th>category</th>\n",
       "      <th>tournaments</th>\n",
       "      <th>answer_type</th>\n",
       "      <th>inlinks</th>\n",
       "      <th>tournament_year</th>\n",
       "      <th>length</th>\n",
       "    </tr>\n",
       "  </thead>\n",
       "  <tbody>\n",
       "    <tr>\n",
       "      <th>0</th>\n",
       "      <td>31</td>\n",
       "      <td>40.023617</td>\n",
       "      <td>Death in Venice</td>\n",
       "      <td>The protagonist of this novella is inspired to...</td>\n",
       "      <td>Literature</td>\n",
       "      <td>2001 ACF Fall</td>\n",
       "      <td>work</td>\n",
       "      <td>4</td>\n",
       "      <td>2009</td>\n",
       "      <td>45</td>\n",
       "    </tr>\n",
       "    <tr>\n",
       "      <th>1</th>\n",
       "      <td>32</td>\n",
       "      <td>27.538799</td>\n",
       "      <td>The Eye of the World</td>\n",
       "      <td>The protagonist of this novella is inspired to...</td>\n",
       "      <td>Literature</td>\n",
       "      <td>2001 ACF Fall</td>\n",
       "      <td>work</td>\n",
       "      <td>1</td>\n",
       "      <td>2009</td>\n",
       "      <td>45</td>\n",
       "    </tr>\n",
       "    <tr>\n",
       "      <th>2</th>\n",
       "      <td>33</td>\n",
       "      <td>26.976121</td>\n",
       "      <td>Carmilla</td>\n",
       "      <td>The protagonist of this novella is inspired to...</td>\n",
       "      <td>Literature</td>\n",
       "      <td>2001 ACF Fall</td>\n",
       "      <td>work</td>\n",
       "      <td>2</td>\n",
       "      <td>2009</td>\n",
       "      <td>45</td>\n",
       "    </tr>\n",
       "    <tr>\n",
       "      <th>3</th>\n",
       "      <td>88</td>\n",
       "      <td>45.848831</td>\n",
       "      <td>A Passage to India</td>\n",
       "      <td>In a symbolic incident in this novel Ronny Hea...</td>\n",
       "      <td>Literature</td>\n",
       "      <td>2001 ACF Regionals</td>\n",
       "      <td>work</td>\n",
       "      <td>5</td>\n",
       "      <td>2009</td>\n",
       "      <td>22</td>\n",
       "    </tr>\n",
       "    <tr>\n",
       "      <th>4</th>\n",
       "      <td>91</td>\n",
       "      <td>99.811169</td>\n",
       "      <td>The Cherry Orchard</td>\n",
       "      <td>We first meet Fiers, the aging footman, in Act...</td>\n",
       "      <td>Literature</td>\n",
       "      <td>2001 ACF Regionals</td>\n",
       "      <td>work</td>\n",
       "      <td>11</td>\n",
       "      <td>2009</td>\n",
       "      <td>96</td>\n",
       "    </tr>\n",
       "  </tbody>\n",
       "</table>\n",
       "</div>"
      ],
      "text/plain": [
       "   row  body_score                  page  \\\n",
       "0   31   40.023617       Death in Venice   \n",
       "1   32   27.538799  The Eye of the World   \n",
       "2   33   26.976121              Carmilla   \n",
       "3   88   45.848831    A Passage to India   \n",
       "4   91   99.811169    The Cherry Orchard   \n",
       "\n",
       "                                                text    category  \\\n",
       "0  The protagonist of this novella is inspired to...  Literature   \n",
       "1  The protagonist of this novella is inspired to...  Literature   \n",
       "2  The protagonist of this novella is inspired to...  Literature   \n",
       "3  In a symbolic incident in this novel Ronny Hea...  Literature   \n",
       "4  We first meet Fiers, the aging footman, in Act...  Literature   \n",
       "\n",
       "          tournaments answer_type  inlinks tournament_year  length  \n",
       "0       2001 ACF Fall        work        4            2009      45  \n",
       "1       2001 ACF Fall        work        1            2009      45  \n",
       "2       2001 ACF Fall        work        2            2009      45  \n",
       "3  2001 ACF Regionals        work        5            2009      22  \n",
       "4  2001 ACF Regionals        work       11            2009      96  "
      ]
     },
     "execution_count": 24,
     "metadata": {},
     "output_type": "execute_result"
    }
   ],
   "source": [
    "test.head()"
   ]
  },
  {
   "cell_type": "code",
   "execution_count": null,
   "metadata": {},
   "outputs": [],
   "source": []
  }
 ],
 "metadata": {
  "kernelspec": {
   "display_name": "Python 3",
   "language": "python",
   "name": "python3"
  },
  "language_info": {
   "codemirror_mode": {
    "name": "ipython",
    "version": 3
   },
   "file_extension": ".py",
   "mimetype": "text/x-python",
   "name": "python",
   "nbconvert_exporter": "python",
   "pygments_lexer": "ipython3",
   "version": "3.6.4"
  }
 },
 "nbformat": 4,
 "nbformat_minor": 2
}
